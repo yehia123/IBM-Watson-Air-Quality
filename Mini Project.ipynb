{
    "cells": [
        {
            "cell_type": "code",
            "execution_count": 1,
            "metadata": {},
            "outputs": [
                {
                    "name": "stdout",
                    "output_type": "stream",
                    "text": "Waiting for a Spark session to start...\nSpark Initialization Done! ApplicationId = app-20200423041715-0002\nKERNEL_ID = a532814c-863e-47f8-921e-b955fb8cdd9c\n"
                },
                {
                    "data": {
                        "text/plain": "[Row(State Name='Alabama', county Name='Baldwin', State Code='01', County Code='003', Date='2019-01-03', AQI='18', Category='Good', Defining Parameter='PM2.5', Defining Site='01-003-0010', Number of Sites Reporting='1'),\n Row(State Name='Alabama', county Name='Baldwin', State Code='01', County Code='003', Date='2019-01-06', AQI='35', Category='Good', Defining Parameter='PM2.5', Defining Site='01-003-0010', Number of Sites Reporting='1'),\n Row(State Name='Alabama', county Name='Baldwin', State Code='01', County Code='003', Date='2019-01-09', AQI='14', Category='Good', Defining Parameter='PM2.5', Defining Site='01-003-0010', Number of Sites Reporting='1'),\n Row(State Name='Alabama', county Name='Baldwin', State Code='01', County Code='003', Date='2019-01-12', AQI='36', Category='Good', Defining Parameter='PM2.5', Defining Site='01-003-0010', Number of Sites Reporting='1'),\n Row(State Name='Alabama', county Name='Baldwin', State Code='01', County Code='003', Date='2019-01-15', AQI='38', Category='Good', Defining Parameter='PM2.5', Defining Site='01-003-0010', Number of Sites Reporting='1')]"
                    },
                    "execution_count": 1,
                    "metadata": {},
                    "output_type": "execute_result"
                }
            ],
            "source": "# The code was removed by Watson Studio for sharing."
        },
        {
            "cell_type": "code",
            "execution_count": 2,
            "metadata": {},
            "outputs": [
                {
                    "data": {
                        "text/plain": "[Row(_c0='0', State Code='4', County Code='13', Site Num='3002', Address='1645 E ROOSEVELT ST-CENTRAL PHOENIX STN', State='Arizona', County='Maricopa', City='Phoenix', Date Local='2000-01-01', NO2 Units='Parts per billion', NO2 Mean='19.041667', NO2 1st Max Value='49.0', NO2 1st Max Hour='19', NO2 AQI='46', O3 Units='Parts per million', O3 Mean='0.0225', O3 1st Max Value='0.04', O3 1st Max Hour='10', O3 AQI='34', SO2 Units='Parts per billion', SO2 Mean='3.0', SO2 1st Max Value='9.0', SO2 1st Max Hour='21', SO2 AQI='13.0', CO Units='Parts per million', CO Mean='1.145833', CO 1st Max Value='4.2', CO 1st Max Hour='21', CO AQI=None),\n Row(_c0='1', State Code='4', County Code='13', Site Num='3002', Address='1645 E ROOSEVELT ST-CENTRAL PHOENIX STN', State='Arizona', County='Maricopa', City='Phoenix', Date Local='2000-01-01', NO2 Units='Parts per billion', NO2 Mean='19.041667', NO2 1st Max Value='49.0', NO2 1st Max Hour='19', NO2 AQI='46', O3 Units='Parts per million', O3 Mean='0.0225', O3 1st Max Value='0.04', O3 1st Max Hour='10', O3 AQI='34', SO2 Units='Parts per billion', SO2 Mean='3.0', SO2 1st Max Value='9.0', SO2 1st Max Hour='21', SO2 AQI='13.0', CO Units='Parts per million', CO Mean='0.878947', CO 1st Max Value='2.2', CO 1st Max Hour='23', CO AQI='25.0'),\n Row(_c0='2', State Code='4', County Code='13', Site Num='3002', Address='1645 E ROOSEVELT ST-CENTRAL PHOENIX STN', State='Arizona', County='Maricopa', City='Phoenix', Date Local='2000-01-01', NO2 Units='Parts per billion', NO2 Mean='19.041667', NO2 1st Max Value='49.0', NO2 1st Max Hour='19', NO2 AQI='46', O3 Units='Parts per million', O3 Mean='0.0225', O3 1st Max Value='0.04', O3 1st Max Hour='10', O3 AQI='34', SO2 Units='Parts per billion', SO2 Mean='2.975', SO2 1st Max Value='6.6', SO2 1st Max Hour='23', SO2 AQI=None, CO Units='Parts per million', CO Mean='1.145833', CO 1st Max Value='4.2', CO 1st Max Hour='21', CO AQI=None),\n Row(_c0='3', State Code='4', County Code='13', Site Num='3002', Address='1645 E ROOSEVELT ST-CENTRAL PHOENIX STN', State='Arizona', County='Maricopa', City='Phoenix', Date Local='2000-01-01', NO2 Units='Parts per billion', NO2 Mean='19.041667', NO2 1st Max Value='49.0', NO2 1st Max Hour='19', NO2 AQI='46', O3 Units='Parts per million', O3 Mean='0.0225', O3 1st Max Value='0.04', O3 1st Max Hour='10', O3 AQI='34', SO2 Units='Parts per billion', SO2 Mean='2.975', SO2 1st Max Value='6.6', SO2 1st Max Hour='23', SO2 AQI=None, CO Units='Parts per million', CO Mean='0.878947', CO 1st Max Value='2.2', CO 1st Max Hour='23', CO AQI='25.0'),\n Row(_c0='4', State Code='4', County Code='13', Site Num='3002', Address='1645 E ROOSEVELT ST-CENTRAL PHOENIX STN', State='Arizona', County='Maricopa', City='Phoenix', Date Local='2000-01-02', NO2 Units='Parts per billion', NO2 Mean='22.958333', NO2 1st Max Value='36.0', NO2 1st Max Hour='19', NO2 AQI='34', O3 Units='Parts per million', O3 Mean='0.013375', O3 1st Max Value='0.032', O3 1st Max Hour='10', O3 AQI='27', SO2 Units='Parts per billion', SO2 Mean='1.958333', SO2 1st Max Value='3.0', SO2 1st Max Hour='22', SO2 AQI='4.0', CO Units='Parts per million', CO Mean='0.85', CO 1st Max Value='1.6', CO 1st Max Hour='23', CO AQI=None)]"
                    },
                    "execution_count": 2,
                    "metadata": {},
                    "output_type": "execute_result"
                }
            ],
            "source": "# Dataset found from https://www.kaggle.com/sogun3/uspollution/\ndf_data_2 = spark.read\\\n  .format('org.apache.spark.sql.execution.datasources.csv.CSVFileFormat')\\\n  .option('header', 'true')\\\n  .load(cos.url('pollution_us_2000_2016.csv', 'jupyternotebook-donotdelete-pr-kneswh0ai9gqzh'))\ndf_data_2.take(5)\n"
        },
        {
            "cell_type": "code",
            "execution_count": null,
            "metadata": {},
            "outputs": [],
            "source": "# Show values of the returned dataframe\ndf_data_1.collect()\ndf_data_1.select(\"AQI\", \"Category\").collect(10)\n\ndf_data_2.collect()\ndf_data_2.select(\"AQI\", \"Category\").collect(10)"
        },
        {
            "cell_type": "code",
            "execution_count": null,
            "metadata": {},
            "outputs": [],
            "source": "# Count how many rows is in the dataframe\ndf_data_1.count()\n# show the summary of a column\ndf_data_1.describe(['AQI']).show()"
        },
        {
            "cell_type": "code",
            "execution_count": null,
            "metadata": {},
            "outputs": [],
            "source": "# Show the data in the dataframe simpler by transforming the orderBy dataframe returned by spark into pandas dataframe\n# pm stand for per million\ndf_graph = df_data_1.orderBy('AQI', ascending=False).limit(10).toPandas()[['State Name','Date','Category','AQI','Defining Parameter']]"
        },
        {
            "cell_type": "code",
            "execution_count": null,
            "metadata": {},
            "outputs": [],
            "source": "# Create a simple plot table using matplotlib\nfrom matplotlib import pyplot as plt\nimport seaborn as sns\nplt.style.use('fivethirtyeight')"
        },
        {
            "cell_type": "code",
            "execution_count": null,
            "metadata": {},
            "outputs": [],
            "source": "sns.plt.figure(figsize=(12,4))\nsns.plt.xlabel(\"Type of Incident\")\nsns.plt.title(\"All Situations By Time\")\nsns.countplot(df.iloc['Category'].values)"
        },
        {
            "cell_type": "code",
            "execution_count": null,
            "metadata": {},
            "outputs": [],
            "source": ""
        }
    ],
    "metadata": {
        "kernelspec": {
            "display_name": "Python 3.6 with Spark",
            "language": "python3",
            "name": "python36"
        },
        "language_info": {
            "codemirror_mode": {
                "name": "ipython",
                "version": 3
            },
            "file_extension": ".py",
            "mimetype": "text/x-python",
            "name": "python",
            "nbconvert_exporter": "python",
            "pygments_lexer": "ipython3",
            "version": "3.6.8"
        }
    },
    "nbformat": 4,
    "nbformat_minor": 1
}